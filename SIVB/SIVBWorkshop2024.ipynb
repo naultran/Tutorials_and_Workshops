{
  "cells": [
    {
      "cell_type": "markdown",
      "metadata": {
        "id": "SLsQiP8cuL9s"
      },
      "source": [
        "# Hands-on scRNAseq data analysis and visualization workshop\n",
        "\n",
        "Rance Nault <br>\n",
        "Michigan State University <br>\n",
        "May 6, 2024 <br>\n",
        "\n",
        "### 2024 Annual Congress SIVB Student workshop\n",
        "---------------------------------------\n",
        "### Overview of data analysis\n",
        "<img src=\"link.png\">\n",
        "\n",
        "This is some introductory information ...\n",
        "-------------------------------------"
      ]
    },
    {
      "cell_type": "markdown",
      "metadata": {
        "id": "KWXSsxHfwfMK"
      },
      "source": [
        "---\n",
        "\n",
        "## __1. Setting up your analysis environment__"
      ]
    },
    {
      "cell_type": "markdown",
      "source": [
        "This workshop will the the 10X Genomics CellRanger software as it is currently one of the most widely used platforms for single-cell sequencing. Tutorials for this and other workflows can be found at the following links:\n",
        "\n",
        "[10X Genomics](https://www.10xgenomics.com/support/software/cell-ranger/latest/tutorials/cr-tutorial-in)\n",
        "\n",
        "[Parse BioSciences](www.google.com)\n",
        "\n",
        "[Curio BioSciences](www.curio.com)\n",
        "\n",
        "> <b><i>USEFUL TIPS!</i></b> <ul> <b>(1)</b> In this interactive notebook you will see the character <b>\"!\"</b> used at the start of several lines of code. This is because we don't have direct access to the command line. If you were to run these analyses at your own institution it is best practice to gain access to a linux terminal such as an institution resource, Microsoft Azure, AWS, or other cloud providers. <br> <b>(2)</b> Keep an eye out for these indented notes. Here we will indicate if this step takes longer than 10 mins to run or if it is expected for fail on a free account.\n",
        "\n",
        "### __1.a. Accessing workshop files on google drive__\n",
        "To avoid having to download many big files which can be time consuming and use up a lot of limited space, we will use a shared google drive to access the files. You will be asked to give permission to this code for your personal drive where the files were saved."
      ],
      "metadata": {
        "id": "nIwbSFxVsxwC"
      }
    },
    {
      "cell_type": "code",
      "source": [
        "# Workshop only - accessing shared files\n",
        "import os\n",
        "from google.colab import drive\n",
        "\n",
        "drive.mount('/content/drive')\n",
        "\n",
        "directory = '/content/drive/My Drive/SIVBWorkshop_Files'\n",
        "# List files in the directory\n",
        "files = os.listdir(directory)\n",
        "\n",
        "# Print the list of files\n",
        "print(\"Files in the directory:\")\n",
        "for file in files:\n",
        "    print(file)"
      ],
      "metadata": {
        "colab": {
          "base_uri": "https://localhost:8080/"
        },
        "id": "IZWhWBGN7lWR",
        "outputId": "22675d95-49da-4af0-8959-f7a9bbf30b66"
      },
      "execution_count": null,
      "outputs": [
        {
          "output_type": "stream",
          "name": "stdout",
          "text": [
            "Drive already mounted at /content/drive; to attempt to forcibly remount, call drive.mount(\"/content/drive\", force_remount=True).\n",
            "Files in the directory:\n",
            "cellranger-8.0.0.tar.gz\n",
            "refdata-gex-GRCm39-2024-A.tar.gz\n",
            "5k_mouse_liver_CNIK_3pv3_fastqs\n",
            "Bos_taurus.ARS-UCD1.3.111.gtf.gz\n",
            "Bos_taurus.ARS-UCD1.3.dna.toplevel.fa.gz\n",
            "5k_mouse_liver_CNIK_3pv3_filtered_feature_bc_matrix.tar.gz\n",
            "5k_mouse_liver_CNIK_3pv3_web_summary.html\n"
          ]
        }
      ]
    },
    {
      "cell_type": "markdown",
      "metadata": {
        "id": "ZLimlmsKK91j"
      },
      "source": [
        "#### __1.b. Download and test CellRanger__\n",
        "\n",
        "The following code describes how to download and install cellranger from the 10X Genomics server. The link (https://....) will change as 10X Genomics tries to prevent overload of their servers, so be sure to go to the vendor website directly for installation instructions.\n",
        "\n",
        "*Note:* Always record your software versions!"
      ]
    },
    {
      "cell_type": "code",
      "source": [
        "# All lines are commented as files are saved in a google drive for this workshop\n",
        "\n",
        "# Download cellranger\n",
        "# wget -O <link to cellranger-8.0.0.tar.gz>\n",
        "\n",
        "# Unpack the cellranger software\n",
        "# tar -xzvf cellranger-8.0.0.tar.gz"
      ],
      "metadata": {
        "id": "eKVhXmqatluQ"
      },
      "execution_count": null,
      "outputs": []
    },
    {
      "cell_type": "markdown",
      "metadata": {
        "id": "YQ87ioSj_902"
      },
      "source": [
        "Typically you would want to add the cellranger directory to your $PATH (environment paths). We can't do this on Google Colab so we will use a workaround. However, to do this, run:<br>\n",
        "`export PATH=/your/path/to/cellranger/cellranger.8.0.0:$PATH`\n",
        "\n",
        "### __1.c. Run a sitecheck (check package)__\n",
        "We will check that your system meets the requirements to run the cellranger pipeline. A description of each of the sections below can be found on the [10X Genomics tutorial](https://www.10xgenomics.com/support/software/cell-ranger/latest/tutorials/cr-tutorial-in). You will notice that our resources doesn't meet many of the criteria (e.g. fewer than required 8 CPU cores). This should be OK for our hands-on activities today but you will want to have access to more computational resources when processing your own data."
      ]
    },
    {
      "cell_type": "code",
      "source": [
        "# Run this if working off of google colab code\n",
        "\n",
        "# Copy the installation files from your google drive\n",
        "!cp ./drive/My\\ Drive/SIVBWorkshop_Files/cellranger-8.0.0.tar.gz .\n",
        "\n",
        "# Unpack the installation files\n",
        "!tar -xzf cellranger-8.0.0.tar.gz\n",
        "\n",
        "# Check if the package is installed\n",
        "!./cellranger-8.0.0/cellranger --help"
      ],
      "metadata": {
        "id": "csmmIwekf0aF",
        "colab": {
          "base_uri": "https://localhost:8080/"
        },
        "outputId": "140217f3-404b-478f-9bc3-1df96fcbb06f"
      },
      "execution_count": null,
      "outputs": [
        {
          "output_type": "stream",
          "name": "stdout",
          "text": [
            "cellranger cellranger-8.0.0\n",
            "\n",
            "Process 10x Genomics Gene Expression, Feature Barcode, and Immune Profiling data\n",
            "\n",
            "\u001b[1m\u001b[4mUsage:\u001b[0m \u001b[1mcellranger\u001b[0m <COMMAND>\n",
            "\n",
            "\u001b[1m\u001b[4mCommands:\u001b[0m\n",
            "  \u001b[1mcount\u001b[0m           Count gene expression and/or feature barcode reads from a single sample and\n",
            "                      GEM well\n",
            "  \u001b[1mmulti\u001b[0m           Analyze multiplexed data or combined gene expression/immune profiling/feature\n",
            "                      barcode data\n",
            "  \u001b[1mmulti-template\u001b[0m  Output a multi config CSV template\n",
            "  \u001b[1mvdj\u001b[0m             Assembles single-cell VDJ receptor sequences from 10x Immune Profiling\n",
            "                      libraries\n",
            "  \u001b[1maggr\u001b[0m            Aggregate data from multiple Cell Ranger runs\n",
            "  \u001b[1mreanalyze\u001b[0m       Re-run secondary analysis (dimensionality reduction, clustering, etc)\n",
            "  \u001b[1mmkvdjref\u001b[0m        Prepare a reference for use with CellRanger VDJ\n",
            "  \u001b[1mmkfastq\u001b[0m         Run Illumina demultiplexer on sample sheets that contain 10x-specific sample\n",
            "                      index sets\n",
            "  \u001b[1mtestrun\u001b[0m         Execute the 'count' pipeline on a small test dataset\n",
            "  \u001b[1mmat2csv\u001b[0m         Convert a feature-barcode matrix to CSV format\n",
            "  \u001b[1mmkref\u001b[0m           Prepare a reference for use with 10x analysis software. Requires a GTF and\n",
            "                      FASTA\n",
            "  \u001b[1mmkgtf\u001b[0m           Filter a GTF file by attribute prior to creating a 10x reference\n",
            "  \u001b[1mupload\u001b[0m          Upload analysis logs to 10x Genomics support\n",
            "  \u001b[1msitecheck\u001b[0m       Collect Linux system configuration information\n",
            "  \u001b[1mhelp\u001b[0m            Print this message or the help of the given subcommand(s)\n",
            "\n",
            "\u001b[1m\u001b[4mOptions:\u001b[0m\n",
            "  \u001b[1m-h\u001b[0m, \u001b[1m--help\u001b[0m     Print help\n",
            "  \u001b[1m-V\u001b[0m, \u001b[1m--version\u001b[0m  Print version\n"
          ]
        }
      ]
    },
    {
      "cell_type": "markdown",
      "source": [
        "You should see some instruction on how to use cellranger including a list of commands which will include count, multi, multi-template, etc... This means that the package is installed at the correct location.\n",
        "\n",
        "Next we will run a simple check of the installation:"
      ],
      "metadata": {
        "id": "H8nsFujPabIn"
      }
    },
    {
      "cell_type": "code",
      "execution_count": null,
      "metadata": {
        "id": "uKJiBQcKAdIT",
        "colab": {
          "base_uri": "https://localhost:8080/"
        },
        "outputId": "7dd4cb91-3fcb-4d3b-fab0-18208615919d"
      },
      "outputs": [
        {
          "output_type": "stream",
          "name": "stdout",
          "text": [
            "\n",
            "\n"
          ]
        }
      ],
      "source": [
        "# This can be run directly in the command line\n",
        "!./cellranger-8.0.0/cellranger sitecheck > sitecheck.txt"
      ]
    },
    {
      "cell_type": "markdown",
      "metadata": {
        "id": "gmVKnnIcDp8c"
      },
      "source": [
        "Sitecheck will output to a file ` > sitecheck.txt`. This can be used to ensure that your system had access to the necessary resources and for troubleshooting. We will not look at it more closely today but more information is available [here](https://www.10xgenomics.com/support/software/cell-ranger/latest/tutorials/cr-tutorial-in).\n",
        "\n",
        "### __1.d. Perform a test run__\n",
        "\n",
        "Run the following code. If the results states **Pipestance completed successfully**, then your cellranger should be working as expected.\n",
        "\n",
        "> This can take more than 20 minutes and will fail using free google colab. Feel free to run it but it can be cancelled to go to the next step."
      ]
    },
    {
      "cell_type": "code",
      "execution_count": null,
      "metadata": {
        "id": "HjUCBl6vCkSq",
        "colab": {
          "base_uri": "https://localhost:8080/"
        },
        "outputId": "b6d6a800-d92b-4b8e-989e-1e9d31542672"
      },
      "outputs": [
        {
          "output_type": "stream",
          "name": "stdout",
          "text": [
            "\n",
            "\n",
            "Martian Runtime - v4.0.12\n",
            "2024-05-16 12:51:39 [jobmngr] WARNING: configured to use 11GB of local memory, but only 10.6GB is currently available.\n",
            "Serving UI at http://0dcecfe2a7de:37479?auth=FNbUGsGZeW9rUuArBJ5COKAEPB2QUjQZ5lM1G6Z89Qs\n",
            "\n",
            "Running preflight checks (please wait)...\n",
            "Checking sample info...\n",
            "Checking FASTQ folder...\n",
            "Checking reference...\n",
            "Checking reference_path (/content/cellranger-8.0.0/external/cellranger_tiny_ref) on 0dcecfe2a7de...\n",
            "Checking optional arguments...\n",
            "mro: v4.0.12\n",
            "mrp: v4.0.12\n",
            "Anaconda: Python 3.10.11\n",
            "numpy: 1.24.3\n",
            "scipy: 1.10.1\n",
            "pysam: 0.21.0\n",
            "h5py: 3.6.0\n",
            "pandas: 2.1.4\n",
            "STAR: 2.7.2a\n",
            "samtools: samtools 1.16.1\n",
            "2024-05-16 12:51:48 [runtime] (ready)           ID.check_install.SC_RNA_COUNTER_CS.SC_MULTI_CORE.MULTI_GEM_WELL_PROCESSOR.COUNT_GEM_WELL_PROCESSOR._BASIC_SC_RNA_COUNTER._MATRIX_COMPUTER.DISABLE_CORRECTION_FACTOR\n",
            "2024-05-16 12:51:48 [runtime] (run:local)       ID.check_install.SC_RNA_COUNTER_CS.SC_MULTI_CORE.MULTI_GEM_WELL_PROCESSOR.COUNT_GEM_WELL_PROCESSOR._BASIC_SC_RNA_COUNTER._MATRIX_COMPUTER.DISABLE_CORRECTION_FACTOR.fork0.chnk0.main\n",
            "2024-05-16 12:51:48 [runtime] (ready)           ID.check_install.SC_RNA_COUNTER_CS.COPY_CHEMISTRY_SPEC\n",
            "2024-05-16 12:51:48 [runtime] (run:local)       ID.check_install.SC_RNA_COUNTER_CS.COPY_CHEMISTRY_SPEC.fork0.chnk0.main\n",
            "2024-05-16 12:51:48 [runtime] (ready)           ID.check_install.SC_RNA_COUNTER_CS.WRITE_GENE_INDEX\n",
            "2024-05-16 12:51:48 [runtime] (run:local)       ID.check_install.SC_RNA_COUNTER_CS.WRITE_GENE_INDEX.fork0.chnk0.main\n",
            "2024-05-16 12:51:48 [runtime] (ready)           ID.check_install.SC_RNA_COUNTER_CS.SC_MULTI_CORE.COPY_VDJ_REFERENCE\n",
            "2024-05-16 12:51:48 [runtime] (ready)           ID.check_install.SC_RNA_COUNTER_CS.SC_MULTI_CORE.SANITIZE_MAP_CALLS\n",
            "2024-05-16 12:51:48 [runtime] (ready)           ID.check_install.SC_RNA_COUNTER_CS.SC_MULTI_CORE.MAKE_FULL_CONFIG._MAKE_VDJ_CONFIG\n",
            "2024-05-16 12:51:48 [runtime] (run:local)       ID.check_install.SC_RNA_COUNTER_CS.SC_MULTI_CORE.MAKE_FULL_CONFIG._MAKE_VDJ_CONFIG.fork0.chnk0.main\n",
            "2024-05-16 12:51:48 [runtime] (ready)           ID.check_install.SC_RNA_COUNTER_CS.SC_MULTI_CORE.SPLIT_VDJ_INPUTS\n",
            "2024-05-16 12:51:48 [runtime] (ready)           ID.check_install.SC_RNA_COUNTER_CS.SC_MULTI_CORE.MULTI_CHEMISTRY_DETECTOR.CHECK_SINGLE_BEAM_MODE\n",
            "2024-05-16 12:51:48 [runtime] (ready)           ID.check_install.SC_RNA_COUNTER_CS.FULL_COUNT_INPUTS.WRITE_GENE_INDEX\n",
            "2024-05-16 12:51:48 [runtime] (run:local)       ID.check_install.SC_RNA_COUNTER_CS.FULL_COUNT_INPUTS.WRITE_GENE_INDEX.fork0.chnk0.main\n",
            "2024-05-16 12:51:48 [runtime] (chunks_complete) ID.check_install.SC_RNA_COUNTER_CS.COPY_CHEMISTRY_SPEC\n",
            "2024-05-16 12:51:48 [runtime] (ready)           ID.check_install.SC_RNA_COUNTER_CS.SC_MULTI_CORE.MULTI_CHEMISTRY_DETECTOR.DETECT_COUNT_CHEMISTRY\n",
            "2024-05-16 12:51:48 [runtime] (run:local)       ID.check_install.SC_RNA_COUNTER_CS.SC_MULTI_CORE.MULTI_CHEMISTRY_DETECTOR.DETECT_COUNT_CHEMISTRY.fork0.chnk0.main\n",
            "2024-05-16 12:51:48 [runtime] (chunks_complete) ID.check_install.SC_RNA_COUNTER_CS.SC_MULTI_CORE.MULTI_GEM_WELL_PROCESSOR.COUNT_GEM_WELL_PROCESSOR._BASIC_SC_RNA_COUNTER._MATRIX_COMPUTER.DISABLE_CORRECTION_FACTOR\n",
            "2024-05-16 12:51:48 [runtime] (ready)           ID.check_install.SC_RNA_COUNTER_CS.SC_MULTI_CORE.MULTI_GEM_WELL_PROCESSOR.COUNT_GEM_WELL_PROCESSOR._BASIC_SC_RNA_COUNTER._MATRIX_COMPUTER.COMPUTE_CORRECTION_FACTOR\n",
            "2024-05-16 12:51:48 [runtime] (chunks_complete) ID.check_install.SC_RNA_COUNTER_CS.WRITE_GENE_INDEX\n",
            "2024-05-16 12:51:48 [runtime] (chunks_complete) ID.check_install.SC_RNA_COUNTER_CS.SC_MULTI_CORE.MAKE_FULL_CONFIG._MAKE_VDJ_CONFIG\n",
            "2024-05-16 12:51:48 [runtime] (ready)           ID.check_install.SC_RNA_COUNTER_CS.SC_MULTI_CORE.MULTI_GEM_WELL_PROCESSOR.VDJ_B_GEM_WELL_PROCESSOR.MULTI_SETUP_CHUNKS\n",
            "2024-05-16 12:51:48 [runtime] (ready)           ID.check_install.SC_RNA_COUNTER_CS.SC_MULTI_CORE.MULTI_GEM_WELL_PROCESSOR.VDJ_T_GEM_WELL_PROCESSOR.MULTI_SETUP_CHUNKS\n",
            "2024-05-16 12:51:48 [runtime] (ready)           ID.check_install.SC_RNA_COUNTER_CS.SC_MULTI_CORE.MULTI_GEM_WELL_PROCESSOR.VDJ_B_GEM_WELL_PROCESSOR.SETUP_VDJ_DEMUX\n",
            "2024-05-16 12:51:48 [runtime] (ready)           ID.check_install.SC_RNA_COUNTER_CS.SC_MULTI_CORE.MULTI_GEM_WELL_PROCESSOR.VDJ_T_GD_GEM_WELL_PROCESSOR.SETUP_VDJ_DEMUX\n",
            "2024-05-16 12:51:48 [runtime] (ready)           ID.check_install.SC_RNA_COUNTER_CS.SC_MULTI_CORE.MULTI_GEM_WELL_PROCESSOR.VDJ_T_GD_GEM_WELL_PROCESSOR.MULTI_SETUP_CHUNKS\n",
            "2024-05-16 12:51:48 [runtime] (ready)           ID.check_install.SC_RNA_COUNTER_CS.SC_MULTI_CORE.MULTI_GEM_WELL_PROCESSOR.VDJ_T_GEM_WELL_PROCESSOR.SETUP_VDJ_DEMUX\n",
            "2024-05-16 12:51:49 [runtime] (ready)           ID.check_install.SC_RNA_COUNTER_CS.SC_MULTI_CORE.MULTI_GEM_WELL_PROCESSOR.VDJ_T_GEM_WELL_PROCESSOR.SC_VDJ_CONTIG_ASSEMBLER.MAKE_SHARD\n",
            "2024-05-16 12:51:49 [runtime] (ready)           ID.check_install.SC_RNA_COUNTER_CS.SC_MULTI_CORE.MULTI_GEM_WELL_PROCESSOR.VDJ_B_GEM_WELL_PROCESSOR.SC_VDJ_CONTIG_ASSEMBLER.MAKE_SHARD\n",
            "2024-05-16 12:51:49 [runtime] (ready)           ID.check_install.SC_RNA_COUNTER_CS.SC_MULTI_CORE.MULTI_GEM_WELL_PROCESSOR.VDJ_T_GD_GEM_WELL_PROCESSOR.SC_VDJ_CONTIG_ASSEMBLER.MAKE_SHARD\n",
            "2024-05-16 12:51:49 [runtime] (ready)           ID.check_install.SC_RNA_COUNTER_CS.SC_MULTI_CORE.MULTI_GEM_WELL_PROCESSOR.VDJ_T_GEM_WELL_PROCESSOR.SC_VDJ_CONTIG_ASSEMBLER.BARCODE_CORRECTION\n",
            "2024-05-16 12:51:49 [runtime] (ready)           ID.check_install.SC_RNA_COUNTER_CS.SC_MULTI_CORE.MULTI_GEM_WELL_PROCESSOR.VDJ_B_GEM_WELL_PROCESSOR.SC_VDJ_CONTIG_ASSEMBLER.BARCODE_CORRECTION\n",
            "2024-05-16 12:51:49 [runtime] (ready)           ID.check_install.SC_RNA_COUNTER_CS.SC_MULTI_CORE.MULTI_GEM_WELL_PROCESSOR.VDJ_T_GD_GEM_WELL_PROCESSOR.SC_VDJ_CONTIG_ASSEMBLER.BARCODE_CORRECTION\n",
            "2024-05-16 12:51:49 [runtime] (ready)           ID.check_install.SC_RNA_COUNTER_CS.SC_MULTI_CORE.MULTI_GEM_WELL_PROCESSOR.VDJ_B_GEM_WELL_PROCESSOR.SC_VDJ_CONTIG_ASSEMBLER.RUST_BRIDGE\n",
            "2024-05-16 12:51:49 [runtime] (ready)           ID.check_install.SC_RNA_COUNTER_CS.SC_MULTI_CORE.MULTI_GEM_WELL_PROCESSOR.VDJ_T_GEM_WELL_PROCESSOR.SC_VDJ_CONTIG_ASSEMBLER.RUST_BRIDGE\n",
            "2024-05-16 12:51:49 [runtime] (ready)           ID.check_install.SC_RNA_COUNTER_CS.SC_MULTI_CORE.MULTI_GEM_WELL_PROCESSOR.VDJ_T_GD_GEM_WELL_PROCESSOR.SC_VDJ_CONTIG_ASSEMBLER.RUST_BRIDGE\n",
            "2024-05-16 12:51:49 [runtime] (ready)           ID.check_install.SC_RNA_COUNTER_CS.SC_MULTI_CORE.MULTI_GEM_WELL_PROCESSOR.VDJ_B_GEM_WELL_PROCESSOR.SC_VDJ_CONTIG_ASSEMBLER.ASSEMBLE_VDJ\n",
            "2024-05-16 12:51:49 [runtime] (ready)           ID.check_install.SC_RNA_COUNTER_CS.SC_MULTI_CORE.MULTI_GEM_WELL_PROCESSOR.VDJ_T_GEM_WELL_PROCESSOR.SC_VDJ_CONTIG_ASSEMBLER.ASSEMBLE_VDJ\n",
            "2024-05-16 12:51:49 [runtime] (ready)           ID.check_install.SC_RNA_COUNTER_CS.SC_MULTI_CORE.MULTI_GEM_WELL_PROCESSOR.VDJ_T_GEM_WELL_PROCESSOR.SC_VDJ_CONTIG_ASSEMBLER.MERGE_METRICS\n",
            "2024-05-16 12:51:49 [runtime] (ready)           ID.check_install.SC_RNA_COUNTER_CS.SC_MULTI_CORE.MULTI_GEM_WELL_PROCESSOR.VDJ_T_GD_GEM_WELL_PROCESSOR.SC_VDJ_CONTIG_ASSEMBLER.ASSEMBLE_VDJ\n",
            "2024-05-16 12:51:49 [runtime] (ready)           ID.check_install.SC_RNA_COUNTER_CS.SC_MULTI_CORE.MULTI_GEM_WELL_PROCESSOR.VDJ_B_GEM_WELL_PROCESSOR.SC_VDJ_CONTIG_ASSEMBLER.MERGE_METRICS\n",
            "2024-05-16 12:51:49 [runtime] (ready)           ID.check_install.SC_RNA_COUNTER_CS.SC_MULTI_CORE.MULTI_GEM_WELL_PROCESSOR.VDJ_T_GD_GEM_WELL_PROCESSOR.SC_VDJ_CONTIG_ASSEMBLER.MERGE_METRICS\n",
            "2024-05-16 12:51:49 [runtime] (chunks_complete) ID.check_install.SC_RNA_COUNTER_CS.FULL_COUNT_INPUTS.WRITE_GENE_INDEX\n",
            "2024-05-16 12:51:49 [runtime] (ready)           ID.check_install.SC_RNA_COUNTER_CS.SC_MULTI_CORE.MULTI_GEM_WELL_PROCESSOR.COUNT_GEM_WELL_PROCESSOR.PARSE_TARGET_FEATURES\n",
            "2024-05-16 12:51:49 [runtime] (run:local)       ID.check_install.SC_RNA_COUNTER_CS.SC_MULTI_CORE.MULTI_GEM_WELL_PROCESSOR.COUNT_GEM_WELL_PROCESSOR.PARSE_TARGET_FEATURES.fork0.chnk0.main\n",
            "2024-05-16 13:33:41 Caught signal interrupt\n",
            "^C\n"
          ]
        }
      ],
      "source": [
        "# Perform test run\n",
        "# Path is not needed if it was exported during installation\n",
        "!./cellranger-8.0.0/cellranger testrun --id=check_install"
      ]
    },
    {
      "cell_type": "markdown",
      "metadata": {
        "id": "jhsd3JH_EuGo"
      },
      "source": [
        "### __1.e. Downloading a reference genome__\n",
        "\n",
        "You will typically use a reference genome to align your sequencing reads to the genome of your model organism and get gene counts. Some vendors keep reference genomes in a format compatible with their software for a handful of the most common model organisms: Human, mouse, rat, drosophila, etc. See [\"Build a custom reference for cell ranger (mkref)\"](https://www.10xgenomics.com/support/software/cell-ranger/latest/tutorials/cr-tutorial-mr) for a tutorial on creating a reference genome for non-model organisms. Here we will work with the [mouse reference genome from 10X Genomics](https://www.10xgenomics.com/support/software/cell-ranger/downloads#reference-downloads).\n",
        "\n",
        "__Note:__ Always record the version number, genome build, and any other information about the source to ensure that you can reproduce your results."
      ]
    },
    {
      "cell_type": "code",
      "source": [
        "# Run the following code in the command line\n",
        "# Commented as the file is found in the google drive (see below)\n",
        "#!wget \"https://cf.10xgenomics.com/supp/cell-exp/refdata-gex-GRCm39-2024-A.tar.gz\""
      ],
      "metadata": {
        "id": "s1iB2bURLfzD"
      },
      "execution_count": null,
      "outputs": []
    },
    {
      "cell_type": "code",
      "execution_count": null,
      "metadata": {
        "colab": {
          "base_uri": "https://localhost:8080/"
        },
        "id": "d5PveYAZFckB",
        "outputId": "63eb2e59-5770-48a9-8c49-41e2553cda11"
      },
      "outputs": [
        {
          "output_type": "stream",
          "name": "stdout",
          "text": [
            "refdata-gex-GRCm39-2024-A/\n",
            "refdata-gex-GRCm39-2024-A/genes/\n",
            "refdata-gex-GRCm39-2024-A/genes/genes.gtf.gz\n",
            "refdata-gex-GRCm39-2024-A/reference.json\n",
            "refdata-gex-GRCm39-2024-A/star/\n",
            "refdata-gex-GRCm39-2024-A/star/chrName.txt\n",
            "refdata-gex-GRCm39-2024-A/star/chrStart.txt\n",
            "refdata-gex-GRCm39-2024-A/star/chrLength.txt\n",
            "refdata-gex-GRCm39-2024-A/star/chrNameLength.txt\n",
            "refdata-gex-GRCm39-2024-A/star/exonGeTrInfo.tab\n",
            "refdata-gex-GRCm39-2024-A/star/geneInfo.tab\n",
            "refdata-gex-GRCm39-2024-A/star/transcriptInfo.tab\n",
            "refdata-gex-GRCm39-2024-A/star/exonInfo.tab\n",
            "refdata-gex-GRCm39-2024-A/star/sjdbList.fromGTF.out.tab\n",
            "refdata-gex-GRCm39-2024-A/star/sjdbInfo.txt\n",
            "refdata-gex-GRCm39-2024-A/star/sjdbList.out.tab\n",
            "refdata-gex-GRCm39-2024-A/star/genomeParameters.txt\n",
            "refdata-gex-GRCm39-2024-A/star/Genome\n",
            "refdata-gex-GRCm39-2024-A/star/SA\n",
            "refdata-gex-GRCm39-2024-A/star/SAindex\n",
            "refdata-gex-GRCm39-2024-A/fasta/\n",
            "refdata-gex-GRCm39-2024-A/fasta/genome.fa.fai\n",
            "refdata-gex-GRCm39-2024-A/fasta/genome.fa\n"
          ]
        }
      ],
      "source": [
        "# Copy the reference genome for mouse from Google drive\n",
        "!cp ./drive/My\\ Drive/SIVBWorkshop_Files/refdata-gex-GRCm39-2024-A.tar.gz .\n",
        "\n",
        "# Extract the files\n",
        "!tar -xzvf refdata-gex-GRCm39-2024-A.tar.gz"
      ]
    },
    {
      "cell_type": "markdown",
      "source": [
        "### __1.f. Custom reference__\n",
        "\n",
        "The example below creates a custom reference genome for cow samples (Bos taurus). References datasets can be obtained from the [Ensembl ftp server](https://useast.ensembl.org/info/data/ftp/index.html).\n",
        "\n",
        "> This workflow can take a long time dependent on the genome size. You can run the following but these can also be cancelled without causing any issues for the next steps."
      ],
      "metadata": {
        "id": "wrqoYOWZL0Hd"
      }
    },
    {
      "cell_type": "code",
      "source": [
        "# Download FASTA genome\n",
        "# This is Bos taurus release 111 (ARS-UCD1.3) released by the USDA ARS in May 2022\n",
        "# Uncomment wget lines and comment cp lines if working on your own environment\n",
        "\n",
        "# !wget https://ftp.ensembl.org/pub/release-111/fasta/bos_taurus/dna/Bos_taurus.ARS-UCD1.3.dna.toplevel.fa.gz\n",
        "#!cp ./drive/My\\ Drive/SIVBWorkshop_Files/Bos_taurus.ARS-UCD1.3.dna.toplevel.fa.gz .\n",
        "#!gunzip Bos_taurus.ARS-UCD1.3.dna.toplevel.fa.gz\n",
        "\n",
        "# Download the gene models (GTF)\n",
        "# !wget https://ftp.ensembl.org/pub/release-111/gtf/bos_taurus/Bos_taurus.ARS-UCD1.3.111.gtf.gz\n",
        "!rm Bos_taurus.ARS-UCD1.3.111.gtf.gz\n",
        "!rm Bos_taurus.ARS-UCD1.3.111.gtf\n",
        "!cp ./drive/My\\ Drive/SIVBWorkshop_Files/Bos_taurus.ARS-UCD1.3.111.gtf.gz .\n",
        "!gunzip Bos_taurus.ARS-UCD1.3.111.gtf.gz"
      ],
      "metadata": {
        "id": "sErSpTucLfQZ",
        "colab": {
          "base_uri": "https://localhost:8080/"
        },
        "outputId": "30b3bd00-a025-4554-9369-c0aea363e24d"
      },
      "execution_count": null,
      "outputs": [
        {
          "output_type": "stream",
          "name": "stdout",
          "text": [
            "rm: cannot remove 'Bos_taurus.ARS-UCD1.3.111.gtf.gz': No such file or directory\n"
          ]
        }
      ]
    },
    {
      "cell_type": "markdown",
      "source": [
        "#### __Filtering gene models__\n",
        "We choose what type of transcripts we want to include when alignming the sequencing reads. These decisions should be driven by the biological considerations of your model."
      ],
      "metadata": {
        "id": "tMPfV3SIOBtI"
      }
    },
    {
      "cell_type": "code",
      "source": [
        "# Keep only protein coding, lncRNA, and antisense genes\n",
        "!./cellranger-8.0.0/cellranger mkgtf \\\n",
        "Bos_taurus.ARS-UCD1.3.111.gtf Bos_taurus.ARS-UCD1.3.111.filtered.gtf \\\n",
        "--attribute=gene_biotype:protein_coding\n",
        "#--attribute=gene_biotype:lncRNA \\\n",
        "#--attribute=gene_biotype:antisense"
      ],
      "metadata": {
        "id": "Qv8z8w_3NH5v",
        "colab": {
          "base_uri": "https://localhost:8080/"
        },
        "outputId": "d68b1a6f-5129-460d-c0f1-98a1a008e208"
      },
      "execution_count": null,
      "outputs": [
        {
          "output_type": "stream",
          "name": "stdout",
          "text": [
            "\n",
            "\n",
            "Writing new genes GTF file (may take 10 minutes for a 1GB input GTF file)...\n",
            "...done\n",
            "\n"
          ]
        }
      ]
    },
    {
      "cell_type": "markdown",
      "source": [
        "#### __Building reference genome__\n",
        "We then prepare the genome for the alignment software."
      ],
      "metadata": {
        "id": "_uUqqGh-OCNT"
      }
    },
    {
      "cell_type": "code",
      "source": [
        "# Run mkref (build reference genome)\n",
        "!./cellranger-8.0.0/cellranger mkref \\\n",
        "--genome=Btau_10 \\\n",
        "--fasta=Bos_taurus.ARS-UCD1.3.dna.toplevel.fa \\\n",
        "--genes=Bos_taurus.ARS-UCD1.3.111.filtered.gtf \\\n",
        "--ref-version=1.0.0"
      ],
      "metadata": {
        "id": "fDx-cCUoNpT9"
      },
      "execution_count": null,
      "outputs": []
    },
    {
      "cell_type": "markdown",
      "metadata": {
        "id": "yWROm0dWGduB"
      },
      "source": [
        "---\n",
        "\n",
        "## __2. Alignment of sequencing reads__"
      ]
    },
    {
      "cell_type": "markdown",
      "source": [
        "Most sequencing cores will send you your sequencing results in a **FASTQ** format. In very rare instances you may beed to convert raw output BCL files according to vendor instructions.\n",
        "\n",
        "### __2.a. What is a FASTQ file?__\n",
        "\n",
        "FASTQ data will consist of four-line [repeating patterns](https://en.wikipedia.org/wiki/FASTQ_format):\n",
        "@ERR059938.60 HS9_6783:8:2304:19291:186369#7/2\n",
        "GTCTCCGGGGGCTGGGGGAACCAGGGGTTCCCACCAACCACCCTCACTCAGCCTTTTCCCTCCAGGCATCTCTGGGAAAGGACATGGGGCTGGTGCGGGG\n",
        "+\n",
        "7?CIGJB:D:-F7LA:GI9FDHBIJ7,GHGJBKHNI7IN,EML8IFIA7HN7J6,L6686LCJE?JKA6G7AK6GK5C6@6IK+++?5+=<;227*6054\n",
        "\n",
        "in short, <br>\n",
        "**line 1** is instrument information. <br>\n",
        "**line 2** is the raw sequence letters. <br>\n",
        "**line 3** can optionally provide additional sequence information. <br>\n",
        "**line 4** encodes the quality values. <br>"
      ],
      "metadata": {
        "id": "SZIk2w26s-nx"
      }
    },
    {
      "cell_type": "code",
      "execution_count": null,
      "metadata": {
        "id": "ItrR-T-dIdwL",
        "colab": {
          "base_uri": "https://localhost:8080/"
        },
        "outputId": "722ed84b-fc6a-4e27-ad9b-f57b6161f3f2"
      },
      "outputs": [
        {
          "output_type": "stream",
          "name": "stdout",
          "text": [
            "@A00984:764:HW7WGDSX3:1:1101:1163:1000 1:N:0:NAATCCCGAC+TACTACTCGG\n",
            "AAAGGTATCTCTCTTCCTCCACACCACA\n",
            "+\n",
            ",FFFF,,F,F:FFFFFFFFFFF:FFFFF\n",
            "@A00984:764:HW7WGDSX3:1:1101:6153:1000 1:N:0:CAATCCCGAC+TACTACTCGG\n",
            "CATTGATTCGGTCATATGCCTTCAGGGG\n",
            "+\n",
            "F,F,FFFF:FFFF,FFF,F:FFFFFFFF\n",
            "@A00984:764:HW7WGDSX3:1:1101:6858:1000 1:N:0:CAATCCCGAC+TACTACTCGG\n",
            "ATTCATCTCATGGGAGGTCTTCGTATCG\n"
          ]
        }
      ],
      "source": [
        "# Downloading sample data from the 10X Genomics repository\n",
        "# Commented as files are available on the shared drive\n",
        "#!curl -O https://cf.10xgenomics.com/samples/cell-exp/7.0.0/5k_mouse_liver_CNIK_3pv3/5k_mouse_liver_CNIK_3pv3_fastqs.tar\n",
        "!cp -r ./drive/My\\ Drive/SIVBWorkshop_Files/5k_mouse_liver_CNIK_3pv3_fastqs .\n",
        "\n",
        "# Display the first 10 lines of a fastq file\n",
        "!head 5k_mouse_liver_CNIK_3pv3_fastqs/5k_mouse_liver_CNIK_3pv3_S5_L001_R1_001.fastq"
      ]
    },
    {
      "cell_type": "markdown",
      "metadata": {
        "id": "jicp5VLm2JBt"
      },
      "source": [
        "### __2.b. Run FASTQ alignments__"
      ]
    },
    {
      "cell_type": "code",
      "execution_count": null,
      "metadata": {
        "id": "zSxFOtZn2QY9"
      },
      "outputs": [],
      "source": [
        "# Uncomment this if the run previously failed\n",
        "#!rm -r run_count_5kliver\n",
        "!./cellranger-8.0.0/cellranger count \\\n",
        "--id=run_count_5kliver \\                      # Give the analysis an ID\n",
        "--fastqs=./5k_mouse_liver_CNIK_3pv3_fastqs/ \\ # The folder with FASTQ files\n",
        "--sample=5k_mouse_liver_CNIK_3pv3 \\           # A commong string in the names\n",
        "--transcriptome=./refdata-gex-GRCm39-2024-A \\ # The reference genome\n",
        "--create-bam=false \\                          # Don't create a BAM file\n",
        "--nosecondary \\                               # Don't create a secondary index\n",
        "--localmem=8 \\                                # Use 8MB of local memory\n",
        "--localcores=1                                # Use 1 local CPU"
      ]
    },
    {
      "cell_type": "markdown",
      "source": [
        "<b><i>Note:</i></b> This code will likely fail (\"killed\") because we don't have access to sufficient memory and cpus on this free cloud resource. A successful run will output \"successfull ...\"."
      ],
      "metadata": {
        "id": "N9g1-aMaL1pi"
      }
    },
    {
      "cell_type": "markdown",
      "metadata": {
        "id": "H5q2KRuwKD6B"
      },
      "source": [
        "### __2.c. Examination of outputs__\n",
        "\n",
        "The `count` command will create a new folder named based on what you used for `--id=` in the command above. This folder will contain several files and folers. You want to examine the <b>outs</b> folder which will contain most of the files you need for the subsequent analyses.\n",
        "\n",
        "We will start in the <i> web_summary.html</i> file:"
      ]
    },
    {
      "cell_type": "code",
      "source": [
        "# We will copy a sample output html file for examination\n",
        "!cp ./drive/My\\ Drive/SIVBWorkshop_Files/5k_mouse_liver_CNIK_3pv3_web_summary.html ."
      ],
      "metadata": {
        "id": "FfSx4m1cfkK7"
      },
      "execution_count": null,
      "outputs": []
    },
    {
      "cell_type": "markdown",
      "source": [
        "The HTML web summary provides a lot of useful information. Each piece should be examined closely but with the biology in mind. Some of the key metrics to examine are <b> Estimated number of cells </b>, <b> mean and median reads/genes per cells</b>, <b> valid barcodes </b>, and the <b> Barcode Rank Plot </b> (also known as the <i>knee plot</i>).\n",
        "\n",
        "- The estimated number of cells should be close to what you expected based on your loading concentration during the library preparation (wet lab steps).\n",
        "- Mean reads and median genes should reflect your sequencing depth but will vary depending on tissue and its general RNA abundance.\n",
        "- The number of valid barcodes and reads should be high (> 85%).\n",
        "- You will get warnings and errors messages at the top of the summary page.\n",
        "- The Barcode Rank Plot should have a very clear bend (<i>knee</i>) which distinguishes your cells from background signal.  "
      ],
      "metadata": {
        "id": "KCQIrsPYs8Wp"
      }
    },
    {
      "cell_type": "markdown",
      "source": [
        "---\n",
        "\n",
        "## __3. Advanced analysis using scanpy/scVI__\n"
      ],
      "metadata": {
        "id": "oHVKJ7-LQhOJ"
      }
    },
    {
      "cell_type": "markdown",
      "source": [
        "### __3.a. Setting up python environment__\n",
        "\n",
        "We will need to ensure that all the necessary packages are available. Typically\n",
        "you will want to do this in a virtual environment so that you can control and monitor package versions and prevent any conflicts. Here are the basics for how to set up that virtual environment.\n",
        "\n",
        "<i>Note: This code cannot be executed in this Colab environment</i>\n",
        "```{bash}\n",
        "# Install virtualenv if not already installed\n",
        "pip install virtualenv\n",
        "\n",
        "# Go to your project folder\n",
        "cd analysis_project\n",
        "\n",
        "# Create virtual environment\n",
        "# python<version> -m venv <virtual-environment-name>\n",
        "python3.9 -m venv env\n",
        "\n",
        "# Activate virtual environment\n",
        "# Mac/Unix\n",
        "source analysis_project/bin/activate\n",
        "# Windows\n",
        "analysis_project/activate\n",
        "```\n",
        "\n",
        "Because we cannot create this environment in Colab, we will simply install the python packages using `pip install` in the existing environment."
      ],
      "metadata": {
        "id": "YiZafON_3Em3"
      }
    },
    {
      "cell_type": "code",
      "source": [
        "!pip install scanpy\n",
        "!pip install scvi-tools\n",
        "\n",
        "!cp ./drive/My\\ Drive/SIVBWorkshop_Files/5k_mouse_liver_CNIK_3pv3_filtered_feature_bc_matrix.tar.gz .\n",
        "!tar -xzvf 5k_mouse_liver_CNIK_3pv3_filtered_feature_bc_matrix.tar.gz"
      ],
      "metadata": {
        "id": "9A_S4_Vp5y17"
      },
      "execution_count": null,
      "outputs": []
    },
    {
      "cell_type": "markdown",
      "source": [
        "We will copy the previously generated CellRanger outputs from Google drive to our environment."
      ],
      "metadata": {
        "id": "MwrqrUDxXZ7m"
      }
    },
    {
      "cell_type": "code",
      "source": [
        "!tar -xzvf 5k_mouse_liver_CNIK_3pv3_filtered_feature_bc_matrix.tar.gz"
      ],
      "metadata": {
        "colab": {
          "base_uri": "https://localhost:8080/"
        },
        "id": "pAi4HfvYEHrW",
        "outputId": "a1ade26d-9e4c-4a6f-8d79-c3a1aa234914"
      },
      "execution_count": null,
      "outputs": [
        {
          "output_type": "stream",
          "name": "stdout",
          "text": [
            "filtered_feature_bc_matrix/\n",
            "filtered_feature_bc_matrix/features.tsv.gz\n",
            "filtered_feature_bc_matrix/matrix.mtx.gz\n",
            "filtered_feature_bc_matrix/barcodes.tsv.gz\n"
          ]
        }
      ]
    },
    {
      "cell_type": "markdown",
      "source": [
        "Describe here"
      ],
      "metadata": {
        "id": "cKtUWk1aXnvg"
      }
    },
    {
      "cell_type": "code",
      "source": [
        "# Load packages for single-cell analysis and visualization\n",
        "import scanpy as sc\n",
        "import numpy as np\n",
        "import pandas as pd\n",
        "import seaborn as sns\n",
        "\n",
        "# Set plotting settings\n",
        "sc.set_figure_params(\n",
        "    scanpy=True, dpi=300, dpi_save=600,\n",
        "    frameon=True, vector_friendly=True,\n",
        "    fontsize=14, figsize=None, color_map=None, format='png', facecolor=None,\n",
        "    transparent=False, ipython_format='pdf'\n",
        "  )"
      ],
      "metadata": {
        "id": "xfshgdx0RN41"
      },
      "execution_count": null,
      "outputs": []
    },
    {
      "cell_type": "markdown",
      "source": [
        "### 3.b. Defining sample names and path to outputs"
      ],
      "metadata": {
        "id": "1fiqlY6cSZwS"
      }
    },
    {
      "cell_type": "code",
      "source": [
        "# Create a dictionary with the data\n",
        "data = {\n",
        "    'path': ['./filtered_feature_bc_matrix'],\n",
        "    'biosample_id': ['L01'],\n",
        "    'species': ['Mouse'],\n",
        "    'sex': ['Male'],\n",
        "    'tissue': ['Liver'],\n",
        "}\n",
        "\n",
        "# Create the DataFrame\n",
        "sample_details_df = pd.DataFrame(data)"
      ],
      "metadata": {
        "id": "TD2O_cZ8FdVl"
      },
      "execution_count": null,
      "outputs": []
    },
    {
      "cell_type": "markdown",
      "source": [
        "### 3.c. Import and perform preliminary QC on filtered data"
      ],
      "metadata": {
        "id": "-d4QwEZmSiua"
      }
    },
    {
      "cell_type": "code",
      "source": [
        "adata_list = []\n",
        "\n",
        "for index, sample in sample_details_df.iterrows():\n",
        "    print(sample['path'])\n",
        "    adata = sc.read_10x_mtx(sample['path'])\n",
        "\n",
        "    # Build metadata\n",
        "    for column in sample_details_df.columns:\n",
        "        if column != 'path':  # Skip the 'path' column\n",
        "            adata.obs[column] = sample[column]\n",
        "\n",
        "    # Calculate QC metrics\n",
        "    adata.var[\"mt\"] = adata.var_names.str.startswith('mt-')  # annotate the group of mitochondrial genes as 'mt'\n",
        "    sc.pp.calculate_qc_metrics(adata, qc_vars=[\"mt\"], percent_top=[20],\n",
        "                               log1p=True, inplace=True)\n",
        "\n",
        "    adata_list.append(adata)\n",
        "\n",
        "new_adata = sc.concat(adata_list, join='outer', index_unique=None, fill_value=0)\n"
      ],
      "metadata": {
        "id": "bHP_VcwwSpr7",
        "colab": {
          "base_uri": "https://localhost:8080/"
        },
        "outputId": "5fd8bbe4-6045-4a2b-b4e5-39b9aa2a55ec"
      },
      "execution_count": null,
      "outputs": [
        {
          "output_type": "stream",
          "name": "stdout",
          "text": [
            "./filtered_feature_bc_matrix\n"
          ]
        }
      ]
    },
    {
      "cell_type": "code",
      "source": [
        "# Create violin plot\n",
        "sc.pl.violin(new_adata,\n",
        "             keys=['pct_counts_mt'],\n",
        "             groupby='biosample_id', rotation=90,\n",
        "             save='violin_plot.png'\n",
        "             )"
      ],
      "metadata": {
        "id": "ZePUSFJvVVdB",
        "colab": {
          "base_uri": "https://localhost:8080/",
          "height": 52
        },
        "outputId": "d2d7a383-1d57-4a7f-cf03-6c072c9f7da6"
      },
      "execution_count": null,
      "outputs": [
        {
          "output_type": "stream",
          "name": "stdout",
          "text": [
            "WARNING: saving figure to file figures/violinviolin_plot.png\n"
          ]
        },
        {
          "output_type": "display_data",
          "data": {
            "text/plain": [
              "<Figure size 1395.9x1200 with 1 Axes>"
            ],
            "application/pdf": "[encoded data removed]"
          },
          "metadata": {}
        }
      ]
    },
    {
      "cell_type": "markdown",
      "source": [
        "### 3.d. Removal of ambient RNA and doublets (to be removed for time)"
      ],
      "metadata": {
        "id": "kWupWhFiWQ5t"
      }
    },
    {
      "cell_type": "code",
      "source": [],
      "metadata": {
        "id": "bJID3sLFW2ZY"
      },
      "execution_count": null,
      "outputs": []
    },
    {
      "cell_type": "markdown",
      "metadata": {
        "id": "0wKFSGCrQWv3"
      },
      "source": [
        "### Data repositories and sources (probably removed for time)"
      ]
    },
    {
      "cell_type": "code",
      "execution_count": null,
      "metadata": {
        "id": "TICGiRKbKH-S"
      },
      "outputs": [],
      "source": [
        "!ls"
      ]
    },
    {
      "cell_type": "markdown",
      "metadata": {
        "id": "iH1aChZuQkVX"
      },
      "source": [
        "### __3.e. Normalisation and dimensionality reduction__"
      ]
    },
    {
      "cell_type": "markdown",
      "metadata": {
        "id": "acrN5Xj0Qov3"
      },
      "source": []
    }
  ],
  "metadata": {
    "colab": {
      "provenance": [],
      "collapsed_sections": [
        "KWXSsxHfwfMK",
        "yWROm0dWGduB"
      ]
    },
    "kernelspec": {
      "display_name": "Python 3",
      "name": "python3"
    },
    "language_info": {
      "name": "python"
    }
  },
  "nbformat": 4,
  "nbformat_minor": 0
}